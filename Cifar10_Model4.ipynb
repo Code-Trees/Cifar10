{
  "cells": [
    {
      "cell_type": "markdown",
      "metadata": {
        "id": "view-in-github",
        "colab_type": "text"
      },
      "source": [
        "<a href=\"https://colab.research.google.com/github/Code-Trees/Cifar10/blob/main/Cifar10_Model4.ipynb\" target=\"_parent\"><img src=\"https://colab.research.google.com/assets/colab-badge.svg\" alt=\"Open In Colab\"/></a>"
      ]
    },
    {
      "cell_type": "code",
      "execution_count": 1,
      "metadata": {
        "id": "jF3DIiTjC2sK"
      },
      "outputs": [],
      "source": [
        "from IPython.core.interactiveshell import InteractiveShell\n",
        "InteractiveShell.ast_node_interactivity = 'all'"
      ]
    },
    {
      "cell_type": "code",
      "source": [
        "from psutil import virtual_memory\n",
        "ram_gb = virtual_memory().total / 1e9\n",
        "print('Your runtime has {:.1f} gigabytes of available RAM\\n'.format(ram_gb))\n",
        "\n",
        "if ram_gb < 20:\n",
        "  print('Not using a high-RAM runtime')\n",
        "else:\n",
        "  print('You are using a high-RAM runtime!')"
      ],
      "metadata": {
        "colab": {
          "base_uri": "https://localhost:8080/"
        },
        "id": "vzA7p2dyrDzd",
        "outputId": "c02919d4-2e4d-4fe3-ef61-3f14fc606c6b"
      },
      "execution_count": 2,
      "outputs": [
        {
          "output_type": "stream",
          "name": "stdout",
          "text": [
            "Your runtime has 27.3 gigabytes of available RAM\n",
            "\n",
            "You are using a high-RAM runtime!\n"
          ]
        }
      ]
    },
    {
      "cell_type": "code",
      "execution_count": 3,
      "metadata": {
        "colab": {
          "base_uri": "https://localhost:8080/",
          "height": 35
        },
        "id": "daZWKxi-ElA6",
        "outputId": "8ade2d9d-9f28-4801-c5af-17ab098e06bc"
      },
      "outputs": [
        {
          "output_type": "display_data",
          "data": {
            "application/javascript": [
              "IPython.notebook.set_autosave_interval(5000)"
            ]
          },
          "metadata": {}
        },
        {
          "output_type": "stream",
          "name": "stdout",
          "text": [
            "Autosaving every 5 seconds\n"
          ]
        }
      ],
      "source": [
        "import os\n",
        "import warnings\n",
        "warnings.filterwarnings('ignore')\n",
        "%autosave 5"
      ]
    },
    {
      "cell_type": "code",
      "execution_count": 4,
      "metadata": {
        "id": "pzJePLkYerQ2"
      },
      "outputs": [],
      "source": [
        "# !pip -q install opencv-python\n",
        "# !pip -q install -U albumentations\n",
        "# !pip -q  install opencv-python-headless==4.5.2.52\n",
        "# !pip -q  install Pillow\n",
        "# !pip -q  install rf_calc\n",
        "# !pip -q install torch-lr-finder"
      ]
    },
    {
      "cell_type": "markdown",
      "metadata": {
        "id": "7in6dyw9dV4s"
      },
      "source": [
        ""
      ]
    },
    {
      "cell_type": "code",
      "execution_count": 5,
      "metadata": {
        "id": "oIpjsAtb8qaF"
      },
      "outputs": [],
      "source": [
        "def module_refresh():\n",
        "    import os\n",
        "    if 'strixbee' in os.listdir():\n",
        "        os.system(\"rm -rf strixbee\")\n",
        "        !git clone https://github.com/Code-Trees/strixbee.git\n",
        "    else:\n",
        "        !git clone https://github.com/Code-Trees/strixbee.git"
      ]
    },
    {
      "cell_type": "code",
      "execution_count": 6,
      "metadata": {
        "id": "KFxxp_ogCnY-",
        "colab": {
          "base_uri": "https://localhost:8080/"
        },
        "outputId": "b2d1da50-89bf-4a43-9d11-1734162d4344"
      },
      "outputs": [
        {
          "output_type": "stream",
          "name": "stdout",
          "text": [
            "Cloning into 'strixbee'...\n",
            "remote: Enumerating objects: 286, done.\u001b[K\n",
            "remote: Counting objects: 100% (286/286), done.\u001b[K\n",
            "remote: Compressing objects: 100% (162/162), done.\u001b[K\n",
            "remote: Total 286 (delta 183), reused 224 (delta 121), pack-reused 0\u001b[K\n",
            "Receiving objects: 100% (286/286), 430.98 KiB | 3.29 MiB/s, done.\n",
            "Resolving deltas: 100% (183/183), done.\n"
          ]
        }
      ],
      "source": [
        "module_refresh()"
      ]
    },
    {
      "cell_type": "code",
      "execution_count": 7,
      "metadata": {
        "id": "WiqafkeSAFC7"
      },
      "outputs": [],
      "source": [
        "try:\n",
        "    #main.py\n",
        "    import warnings\n",
        "    warnings.filterwarnings('ignore')\n",
        "\n",
        "    import numpy as np\n",
        "    import torch\n",
        "    import torch.nn.functional as F\n",
        "    import torch.nn as nn\n",
        "\n",
        "    from torch.optim import SGD\n",
        "    from torch.utils.data import DataLoader\n",
        "    from torch.utils.data.dataset import Dataset\n",
        "    from torch.optim.lr_scheduler import StepLR\n",
        "\n",
        "    from torchvision import transforms,datasets\n",
        "\n",
        "    import numpy as np\n",
        "    import matplotlib.pyplot as plt\n",
        "    from torchsummary import summary\n",
        "    import random\n",
        "    import seaborn as sns\n",
        "    import gc\n",
        "\n",
        "    import albumentations as A\n",
        "    from albumentations.augmentations.geometric.resize import Resize\n",
        "    from albumentations.pytorch.transforms import ToTensorV2\n",
        "\n",
        "    from rf_calc import receptive_field\n",
        "    import seaborn as sns\n",
        "    import matplotlib.pyplot as plt\n",
        "except:\n",
        "    !pip -q install opencv-python\n",
        "    !pip -q install -U albumentations\n",
        "    !pip -q  install opencv-python-headless==4.5.2.52\n",
        "    !pip -q  install Pillow\n",
        "    !pip -q  install rf_calc\n",
        "    !pip -q install torch-lr-finder\n",
        "\n",
        "    import warnings\n",
        "    warnings.filterwarnings('ignore')\n",
        "\n",
        "    import numpy as np\n",
        "    import torch\n",
        "    import torch.nn.functional as F\n",
        "    import torch.nn as nn\n",
        "\n",
        "    from torch.optim import SGD\n",
        "    from torch.utils.data import DataLoader\n",
        "    from torch.utils.data.dataset import Dataset\n",
        "    from torch.optim.lr_scheduler import StepLR\n",
        "\n",
        "    from torchvision import transforms,datasets\n",
        "\n",
        "    import numpy as np\n",
        "    import matplotlib.pyplot as plt\n",
        "    from torchsummary import summary\n",
        "    import random\n",
        "    import seaborn as sns\n",
        "    import gc\n",
        "\n",
        "    import albumentations as A\n",
        "    from albumentations.augmentations.geometric.resize import Resize\n",
        "    from albumentations.pytorch.transforms import ToTensorV2\n",
        "\n",
        "    from rf_calc import receptive_field\n",
        "    import seaborn as sns\n",
        "    import matplotlib.pyplot as plt"
      ]
    },
    {
      "cell_type": "code",
      "execution_count": 8,
      "metadata": {
        "id": "iHB2dQ6OIXy6",
        "colab": {
          "base_uri": "https://localhost:8080/"
        },
        "outputId": "4757bb15-92f9-4297-b23e-351d3f280048"
      },
      "outputs": [
        {
          "output_type": "stream",
          "name": "stdout",
          "text": [
            "Files already downloaded and verified\n",
            "Files already downloaded and verified\n"
          ]
        }
      ],
      "source": [
        "from strixbee.utils.data_iter import get_data,get_data_stats\n",
        "from strixbee.utils.data_transforms import AlbumDataset\n",
        "from strixbee.utils.optimizer_utils import *\n",
        "from strixbee.utils.train_test import *\n",
        "from strixbee.utils.gpu import clean_gpu\n",
        "from strixbee.utils.plots import * \n",
        "from strixbee.utils import *\n",
        "from strixbee.model.custom_layer import *"
      ]
    },
    {
      "cell_type": "code",
      "execution_count": 9,
      "metadata": {
        "colab": {
          "base_uri": "https://localhost:8080/",
          "height": 372
        },
        "id": "UsL4monMJYpi",
        "outputId": "6ffbf07d-b40a-426c-cb05-af2c4acdd3f5"
      },
      "outputs": [
        {
          "output_type": "stream",
          "name": "stdout",
          "text": [
            "Files already downloaded and verified\n",
            "Files already downloaded and verified\n",
            "Train Shape: (50000, 32, 32, 3) Test Shape: (10000, 32, 32, 3) \n",
            "\n"
          ]
        },
        {
          "output_type": "display_data",
          "data": {
            "image/png": "[encoded data removed]",
            "text/plain": [
              "<Figure size 2160x2160 with 10 Axes>"
            ]
          },
          "metadata": {
            "needs_background": "light"
          }
        },
        {
          "output_type": "display_data",
          "data": {
            "image/png": "[encoded data removed]",
            "text/plain": [
              "<Figure size 2160x2160 with 10 Axes>"
            ]
          },
          "metadata": {
            "needs_background": "light"
          }
        }
      ],
      "source": [
        "labels = {0:'airplane',1:'automobile',2:'bird',3:'cat',4:'deer',5:'dog',6:'frog',7:'horse',8:'ship',9:'truck'}\n",
        "train,test = get_data()\n",
        "print(f\"Train Shape: {train.data.shape} Test Shape: {test.data.shape} \\n\")\n",
        "plot_unique_images(train,labels =labels)\n",
        "plot_unique_images(train,labels =labels)"
      ]
    },
    {
      "cell_type": "code",
      "execution_count": 10,
      "metadata": {
        "colab": {
          "base_uri": "https://localhost:8080/",
          "height": 52
        },
        "id": "5k0pyl67JhPT",
        "outputId": "64592bf0-05b7-4374-ab15-20bee9a4ded7"
      },
      "outputs": [
        {
          "output_type": "stream",
          "name": "stdout",
          "text": [
            "Mean :(0.49139967861519745, 0.4821584083946076, 0.44653091444546616) , Std :(0.2470322324632823, 0.24348512800005553, 0.2615878417279641)\n"
          ]
        },
        {
          "output_type": "display_data",
          "data": {
            "text/plain": [
              "<Figure size 1080x360 with 0 Axes>"
            ]
          },
          "metadata": {}
        }
      ],
      "source": [
        "mean,std  = get_data_stats(train,test,img_norm_typ ='train',plot = False)\n",
        "print(f\"Mean :{mean} , Std :{std}\")"
      ]
    },
    {
      "cell_type": "code",
      "execution_count": 11,
      "metadata": {
        "id": "N13QfWMzeatO"
      },
      "outputs": [],
      "source": [
        "def get_lr(optimizer):\n",
        "    for param_group in optimizer.param_groups:\n",
        "        return param_group['lr']"
      ]
    },
    {
      "cell_type": "code",
      "execution_count": 12,
      "metadata": {
        "id": "1hwXVXMNej_e"
      },
      "outputs": [],
      "source": [
        "#model1\n",
        "class Cifar10Net1(nn.Module):\n",
        "    def __init__(self,dropout_val = 0,norm_type = 'bn'):\n",
        "        super(Cifar10Net1,self).__init__()\n",
        "        self.norm_type = norm_type\n",
        "        self.drop = dropout_val\n",
        "\n",
        "        self.block1 = nn.Sequential(\n",
        "            ConvBlock(in_channels=3,out_channels=32,kernel_size = (3,3),stride = 1, padding = 1,norm_type = self.norm_type,dropout_val= self.drop),\n",
        "            ConvBlock(in_channels=32,out_channels=32,kernel_size = (3,3),stride = 1, padding = 1,norm_type = self.norm_type,dropout_val= self.drop)\n",
        "            )\n",
        "        \n",
        "        # self.pool1 =nn.MaxPool2d(kernel_size=(2,2),stride = 2)\n",
        "        # self.pool1 =ConvBlock(in_channels=32,out_channels =32,kernel_size = (3,3),stride = 2,padding = 0)\n",
        "\n",
        "\n",
        "        self.block2 = nn.Sequential(\n",
        "            ConvBlock(in_channels=32,out_channels=32,kernel_size = (3,3),stride = 2, padding = 1,norm_type = self.norm_type,dropout_val= self.drop),\n",
        "            ConvBlock(in_channels=32,out_channels=32,kernel_size = (3,3),stride = 1, padding = 1,norm_type = self.norm_type,dropout_val= self.drop),\n",
        "            ConvBlock(in_channels=32,out_channels=32,kernel_size = (3,3),stride = 1, padding = 1,norm_type = self.norm_type,dropout_val= self.drop),\n",
        "\n",
        "            # ConvBlock(in_channels=32,out_channels=64,kernel_size = (3,3),stride = 1, padding = 1,norm_type = self.norm_type,dropout_val= self.drop),\n",
        "            )\n",
        "\n",
        "        # self.pool2 = nn.MaxPool2d(kernel_size = (2,2),stride  = 2)\n",
        "        # self.pool2 =ConvBlock(in_channels=32,out_channels =32,kernel_size = (3,3),stride = 2,padding = 0)\n",
        "\n",
        "\n",
        "        self.block3 = nn.Sequential(\n",
        "            ConvBlock(in_channels=32,out_channels=32,kernel_size = (3,3),stride = 2, padding = 1,norm_type = self.norm_type,dropout_val= self.drop),\n",
        "            ConvBlock(in_channels=32,out_channels=32,kernel_size = (3,3),stride = 1, padding = 1,norm_type = self.norm_type,dropout_val= self.drop),\n",
        "            ConvBlock(in_channels=32,out_channels=32,kernel_size = (3,3),stride = 1, padding = 1,norm_type = self.norm_type,dropout_val= self.drop),\n",
        "            )\n",
        "\n",
        "        # self.pool3 = nn.MaxPool2d(kernel_size = (2,2),stride  = 2)\n",
        "        # self.pool3 =ConvBlock(in_channels=32,out_channels =32,kernel_size = (3,3),stride = 2,padding = 0)\n",
        "\n",
        "\n",
        "        self.block4 = nn.Sequential(\n",
        "            ConvBlock(in_channels=32,out_channels=32,kernel_size = (3,3),stride = 2, padding = 1,norm_type = self.norm_type,dropout_val= self.drop),\n",
        "            ConvBlock(in_channels=32,out_channels=32,kernel_size = (3,3),stride = 1, padding = 1,norm_type = self.norm_type,dropout_val= self.drop),\n",
        "            ConvBlock(in_channels=32,out_channels=32,kernel_size = (3,3),stride = 1, padding = 1,norm_type = self.norm_type,dropout_val= self.drop),\n",
        "            )\n",
        "        # self.pool4 = nn.MaxPool2d(kernel_size = (2,2),stride  = 2)\n",
        "        # self.pool4 =ConvBlock(in_channels=64,out_channels =64,kernel_size = (3,3),stride = 2,padding = 0)\n",
        "\n",
        "        self.GAP = nn.AdaptiveAvgPool2d(output_size=(1,1))\n",
        "\n",
        "        self.con1 = nn.Conv2d(in_channels = 32,out_channels = 64,kernel_size = (1,1),padding = 0,stride = 1,bias= True)\n",
        "        self.con2 = nn.Conv2d(in_channels = 64,out_channels = 10,kernel_size = (1,1),bias= True)\n",
        "        \n",
        "\n",
        "    def forward(self,x):\n",
        "        x = self.block1(x)\n",
        "        # x = self.pool1(x)\n",
        "        x = self.block2(x)\n",
        "        # x = self.pool2(x)\n",
        "        x = self.block3(x)\n",
        "        # x = self.pool3(x)\n",
        "        x = self.block4(x)\n",
        "        # x = self.pool4(x)\n",
        "        x = self.GAP(x)\n",
        "        x = self.con1(x)\n",
        "        x = self.con2(x)\n",
        "        x = x.view(-1,10)\n",
        "        # return x\n",
        "        return F.log_softmax(x,dim = -1)"
      ]
    },
    {
      "cell_type": "code",
      "execution_count": 13,
      "metadata": {
        "colab": {
          "base_uri": "https://localhost:8080/"
        },
        "id": "SeOK2uCvw44h",
        "outputId": "11fff153-3e1f-4d25-c126-7a9b80e2cfd5"
      },
      "outputs": [
        {
          "output_type": "stream",
          "name": "stdout",
          "text": [
            "----------------------------------------------------------------\n",
            "        Layer (type)               Output Shape         Param #\n",
            "================================================================\n",
            "            Conv2d-1           [-1, 32, 32, 32]             864\n",
            "       BatchNorm2d-2           [-1, 32, 32, 32]              64\n",
            "              ReLU-3           [-1, 32, 32, 32]               0\n",
            "         Dropout2d-4           [-1, 32, 32, 32]               0\n",
            "         ConvBlock-5           [-1, 32, 32, 32]               0\n",
            "            Conv2d-6           [-1, 32, 32, 32]           9,216\n",
            "       BatchNorm2d-7           [-1, 32, 32, 32]              64\n",
            "              ReLU-8           [-1, 32, 32, 32]               0\n",
            "         Dropout2d-9           [-1, 32, 32, 32]               0\n",
            "        ConvBlock-10           [-1, 32, 32, 32]               0\n",
            "           Conv2d-11           [-1, 32, 16, 16]           9,216\n",
            "      BatchNorm2d-12           [-1, 32, 16, 16]              64\n",
            "             ReLU-13           [-1, 32, 16, 16]               0\n",
            "        Dropout2d-14           [-1, 32, 16, 16]               0\n",
            "        ConvBlock-15           [-1, 32, 16, 16]               0\n",
            "           Conv2d-16           [-1, 32, 16, 16]           9,216\n",
            "      BatchNorm2d-17           [-1, 32, 16, 16]              64\n",
            "             ReLU-18           [-1, 32, 16, 16]               0\n",
            "        Dropout2d-19           [-1, 32, 16, 16]               0\n",
            "        ConvBlock-20           [-1, 32, 16, 16]               0\n",
            "           Conv2d-21           [-1, 32, 16, 16]           9,216\n",
            "      BatchNorm2d-22           [-1, 32, 16, 16]              64\n",
            "             ReLU-23           [-1, 32, 16, 16]               0\n",
            "        Dropout2d-24           [-1, 32, 16, 16]               0\n",
            "        ConvBlock-25           [-1, 32, 16, 16]               0\n",
            "           Conv2d-26             [-1, 32, 8, 8]           9,216\n",
            "      BatchNorm2d-27             [-1, 32, 8, 8]              64\n",
            "             ReLU-28             [-1, 32, 8, 8]               0\n",
            "        Dropout2d-29             [-1, 32, 8, 8]               0\n",
            "        ConvBlock-30             [-1, 32, 8, 8]               0\n",
            "           Conv2d-31             [-1, 32, 8, 8]           9,216\n",
            "      BatchNorm2d-32             [-1, 32, 8, 8]              64\n",
            "             ReLU-33             [-1, 32, 8, 8]               0\n",
            "        Dropout2d-34             [-1, 32, 8, 8]               0\n",
            "        ConvBlock-35             [-1, 32, 8, 8]               0\n",
            "           Conv2d-36             [-1, 32, 8, 8]           9,216\n",
            "      BatchNorm2d-37             [-1, 32, 8, 8]              64\n",
            "             ReLU-38             [-1, 32, 8, 8]               0\n",
            "        Dropout2d-39             [-1, 32, 8, 8]               0\n",
            "        ConvBlock-40             [-1, 32, 8, 8]               0\n",
            "           Conv2d-41             [-1, 32, 4, 4]           9,216\n",
            "      BatchNorm2d-42             [-1, 32, 4, 4]              64\n",
            "             ReLU-43             [-1, 32, 4, 4]               0\n",
            "        Dropout2d-44             [-1, 32, 4, 4]               0\n",
            "        ConvBlock-45             [-1, 32, 4, 4]               0\n",
            "           Conv2d-46             [-1, 32, 4, 4]           9,216\n",
            "      BatchNorm2d-47             [-1, 32, 4, 4]              64\n",
            "             ReLU-48             [-1, 32, 4, 4]               0\n",
            "        Dropout2d-49             [-1, 32, 4, 4]               0\n",
            "        ConvBlock-50             [-1, 32, 4, 4]               0\n",
            "           Conv2d-51             [-1, 32, 4, 4]           9,216\n",
            "      BatchNorm2d-52             [-1, 32, 4, 4]              64\n",
            "             ReLU-53             [-1, 32, 4, 4]               0\n",
            "        Dropout2d-54             [-1, 32, 4, 4]               0\n",
            "        ConvBlock-55             [-1, 32, 4, 4]               0\n",
            "AdaptiveAvgPool2d-56             [-1, 32, 1, 1]               0\n",
            "           Conv2d-57             [-1, 64, 1, 1]           2,112\n",
            "           Conv2d-58             [-1, 10, 1, 1]             650\n",
            "================================================================\n",
            "Total params: 96,490\n",
            "Trainable params: 96,490\n",
            "Non-trainable params: 0\n",
            "----------------------------------------------------------------\n",
            "Input size (MB): 0.01\n",
            "Forward/backward pass size (MB): 3.73\n",
            "Params size (MB): 0.37\n",
            "Estimated Total Size (MB): 4.11\n",
            "----------------------------------------------------------------\n",
            "=======================================Reciptive Field Calculator========================================\n",
            "|    | Kernel_size   | Padding   |   Stride | Input_Img_size   | Output_Img_size   | Receptive_field   |\n",
            "|---:|:--------------|:----------|---------:|:-----------------|:------------------|:------------------|\n",
            "|  0 | 3*3           | 1         |        1 | 32*32            | 32*32             | 3*3               |\n",
            "|  1 | 3*3           | 1         |        1 | 32*32            | 32*32             | 5*5               |\n",
            "|  2 | 3*3           | 1         |        2 | 32*32            | 16*16             | 7*7               |\n",
            "|  3 | 3*3           | 1         |        1 | 16*16            | 16*16             | 11*11             |\n",
            "|  4 | 3*3           | 1         |        1 | 16*16            | 16*16             | 15*15             |\n",
            "|  5 | 3*3           | 1         |        2 | 16*16            | 8*8               | 19*19             |\n",
            "|  6 | 3*3           | 1         |        1 | 8*8              | 8*8               | 27*27             |\n",
            "|  7 | 3*3           | 1         |        1 | 8*8              | 8*8               | 35*35             |\n",
            "|  8 | 3*3           | 1         |        2 | 8*8              | 4*4               | 43*43             |\n",
            "|  9 | 3*3           | 1         |        1 | 4*4              | 4*4               | 59*59             |\n",
            "| 10 | 3*3           | 1         |        1 | 4*4              | 4*4               | 75*75             |\n",
            "| 11 | 1*1           | NO        |        1 | 4*4              | 4*4               | 75*75             |\n",
            "| 12 | 1*1           | NO        |        1 | 4*4              | 4*4               | 75*75             |\n",
            "| 13 | 1*1           | NO        |        1 | 4*4              | 4*4               | 75*75             |\n",
            "=========================================================================================================\n"
          ]
        }
      ],
      "source": [
        "device = \"cuda\" if torch.cuda.is_available() else \"cpu\"\n",
        "model_demo =Cifar10Net1(dropout_val = 0.00,norm_type = 'bn').to(device)\n",
        "summary(model_demo,(3,32,32))\n",
        "df = receptive_field(model_demo,32)"
      ]
    },
    {
      "cell_type": "code",
      "execution_count": 14,
      "metadata": {
        "id": "ti_OEGETIVW6"
      },
      "outputs": [],
      "source": [
        "def Run_Model(model_class,train_loader,test_loader,epochs , L1 = False):\n",
        "    \n",
        "    device = \"cuda\" if torch.cuda.is_available() else \"cpu\"\n",
        "    print (f'running on {device} \\n')\n",
        "    #take input as normal_type ['gbn','bn','gn','ln']\n",
        "    model = model_class.to(device)\n",
        "    try:\n",
        "        # print(summary(model,input_size = (3,32,32)))\n",
        "        pass\n",
        "    except:\n",
        "        pass\n",
        "\n",
        "    # optimizer,scheduler = get_optimizer(model,lr =0.01,scheduler = True,scheduler_type = 'steplr')\n",
        "    # optimizer,scheduler = get_optimizer(model,lr =0.01,scheduler = True,scheduler_type = 'reducelronplateau')\n",
        "    # optimizer = get_optimizer(model,lr =0.01,scheduler = False,scheduler_type = None)\n",
        "    # optimizer,scheduler = get_optimizer(model,scheduler = True )\n",
        "    optimizer = SGD(params = model.parameters(),lr = 0.01,momentum = 0.9)\n",
        "    # scheduler = StepLR(optimizer,step_size = 20,gamma = 0.1)\n",
        "\n",
        "    train_losses = []\n",
        "    train_accuracy = []\n",
        "    test_losses =[]\n",
        "    test_accuracy = []\n",
        "\n",
        "    for EPOCHS in range(0,epochs):\n",
        "        if L1 == True:\n",
        "            train_loss, train_acc = trainning(model,device,train_loader,optimizer,EPOCHS,L1 = L1)\n",
        "            train_losses.append(train_loss)\n",
        "            train_accuracy.append(train_acc)\n",
        "        else:\n",
        "            train_loss, train_acc = trainning(model,device,train_loader,optimizer,EPOCHS)\n",
        "            train_losses.append(train_loss)\n",
        "            train_accuracy.append(train_acc)\n",
        "\n",
        "        test_loss,test_acc = testing(model,device,test_loader,optimizer,EPOCHS)\n",
        "\n",
        "        test_accuracy.append(test_acc)\n",
        "        test_losses.append(test_loss)\n",
        "        \n",
        "        # scheduler.step()\n",
        "        # scheduler.step(train_loss)\n",
        "        \n",
        "        try:\n",
        "            if (EPOCHS >=3)&(max(test_accuracy[:-1]) < test_accuracy[-1]) & (max(test_accuracy) >= .75):\n",
        "                checkpoint = {'epoch': EPOCHS + 1,'valid_loss_min': test_losses[-1],'state_dict': model.state_dict(),'optimizer': optimizer.state_dict(),} # Export to TorchScript\n",
        "                torch.save(checkpoint ,'./Model_cifar10.pt') # Save\n",
        "                print (f\"Achieved: {max(test_accuracy)*100}% Test Accuracy !!\")\n",
        "        except:\n",
        "            print('Model Saving Failed !!')\n",
        "        print(f\"best test accuracy {max(test_accuracy)}\\n\")\n",
        "        # print (\"LR :{}\\n\".format(scheduler.get_lr()[0]))\n",
        "    return model,train_losses, train_accuracy,test_losses,test_accuracy\n"
      ]
    },
    {
      "cell_type": "code",
      "execution_count": 17,
      "metadata": {
        "colab": {
          "base_uri": "https://localhost:8080/",
          "height": 1000
        },
        "id": "sjRPQ_LpeIMA",
        "outputId": "09ac8f11-336b-4665-86ec-1ff994d0a1d2"
      },
      "outputs": [
        {
          "output_type": "stream",
          "name": "stdout",
          "text": [
            "Files already downloaded and verified\n",
            "Files already downloaded and verified\n",
            "running on cuda \n",
            "\n"
          ]
        },
        {
          "output_type": "stream",
          "name": "stderr",
          "text": [
            "Train ==> Epochs: 0 Batch:  781 loss: 1.2355623245239258 Accuracy: 28.14% : 100%|██████████| 782/782 [00:13<00:00, 57.85it/s]\n",
            "Test ==> Epochs: 0 Batch:  156 loss: 0.022636863648891448 Accuracy: 45.85% : 100%|██████████| 157/157 [00:01<00:00, 104.34it/s]\n"
          ]
        },
        {
          "output_type": "stream",
          "name": "stdout",
          "text": [
            "Model Saving Failed !!\n",
            "best test accuracy 0.4585\n",
            "\n"
          ]
        },
        {
          "output_type": "stream",
          "name": "stderr",
          "text": [
            "Train ==> Epochs: 1 Batch:  781 loss: 1.311585783958435 Accuracy: 40.80% : 100%|██████████| 782/782 [00:13<00:00, 56.84it/s]\n",
            "Test ==> Epochs: 1 Batch:  156 loss: 0.020087221145629882 Accuracy: 52.35% : 100%|██████████| 157/157 [00:01<00:00, 106.17it/s]\n"
          ]
        },
        {
          "output_type": "stream",
          "name": "stdout",
          "text": [
            "best test accuracy 0.5235\n",
            "\n"
          ]
        },
        {
          "output_type": "stream",
          "name": "stderr",
          "text": [
            "Train ==> Epochs: 2 Batch:  781 loss: 1.3549200296401978 Accuracy: 46.84% : 100%|██████████| 782/782 [00:13<00:00, 57.22it/s]\n",
            "Test ==> Epochs: 2 Batch:  156 loss: 0.017807507693767547 Accuracy: 58.74% : 100%|██████████| 157/157 [00:01<00:00, 106.37it/s]\n"
          ]
        },
        {
          "output_type": "stream",
          "name": "stdout",
          "text": [
            "best test accuracy 0.5874\n",
            "\n"
          ]
        },
        {
          "output_type": "stream",
          "name": "stderr",
          "text": [
            "Train ==> Epochs: 3 Batch:  781 loss: 1.254399299621582 Accuracy: 50.63% : 100%|██████████| 782/782 [00:13<00:00, 56.92it/s]\n",
            "Test ==> Epochs: 3 Batch:  156 loss: 0.01656162653565407 Accuracy: 61.68% : 100%|██████████| 157/157 [00:01<00:00, 105.42it/s]\n"
          ]
        },
        {
          "output_type": "stream",
          "name": "stdout",
          "text": [
            "best test accuracy 0.6168\n",
            "\n"
          ]
        },
        {
          "output_type": "stream",
          "name": "stderr",
          "text": [
            "Train ==> Epochs: 4 Batch:  781 loss: 1.7940021753311157 Accuracy: 53.29% : 100%|██████████| 782/782 [00:13<00:00, 56.65it/s]\n",
            "Test ==> Epochs: 4 Batch:  156 loss: 0.01539239689707756 Accuracy: 64.91% : 100%|██████████| 157/157 [00:01<00:00, 104.19it/s]\n"
          ]
        },
        {
          "output_type": "stream",
          "name": "stdout",
          "text": [
            "best test accuracy 0.6491\n",
            "\n"
          ]
        },
        {
          "output_type": "stream",
          "name": "stderr",
          "text": [
            "Train ==> Epochs: 5 Batch:  781 loss: 1.7550654411315918 Accuracy: 55.39% : 100%|██████████| 782/782 [00:13<00:00, 56.90it/s]\n",
            "Test ==> Epochs: 5 Batch:  156 loss: 0.015652296197414397 Accuracy: 65.00% : 100%|██████████| 157/157 [00:01<00:00, 97.39it/s] \n"
          ]
        },
        {
          "output_type": "stream",
          "name": "stdout",
          "text": [
            "best test accuracy 0.65\n",
            "\n"
          ]
        },
        {
          "output_type": "stream",
          "name": "stderr",
          "text": [
            "Train ==> Epochs: 6 Batch:  781 loss: 1.1263890266418457 Accuracy: 57.31% : 100%|██████████| 782/782 [00:13<00:00, 56.42it/s]\n",
            "Test ==> Epochs: 6 Batch:  156 loss: 0.013905001848936081 Accuracy: 68.75% : 100%|██████████| 157/157 [00:01<00:00, 103.30it/s]\n"
          ]
        },
        {
          "output_type": "stream",
          "name": "stdout",
          "text": [
            "best test accuracy 0.6875\n",
            "\n"
          ]
        },
        {
          "output_type": "stream",
          "name": "stderr",
          "text": [
            "Train ==> Epochs: 7 Batch:  781 loss: 1.058142900466919 Accuracy: 58.10% : 100%|██████████| 782/782 [00:13<00:00, 56.63it/s]\n",
            "Test ==> Epochs: 7 Batch:  156 loss: 0.013808296138048171 Accuracy: 68.93% : 100%|██████████| 157/157 [00:01<00:00, 102.89it/s]\n"
          ]
        },
        {
          "output_type": "stream",
          "name": "stdout",
          "text": [
            "best test accuracy 0.6893\n",
            "\n"
          ]
        },
        {
          "output_type": "stream",
          "name": "stderr",
          "text": [
            "Train ==> Epochs: 8 Batch:  781 loss: 1.1976027488708496 Accuracy: 59.47% : 100%|██████████| 782/782 [00:14<00:00, 55.85it/s]\n",
            "Test ==> Epochs: 8 Batch:  156 loss: 0.013080645483732223 Accuracy: 70.71% : 100%|██████████| 157/157 [00:01<00:00, 108.67it/s]\n"
          ]
        },
        {
          "output_type": "stream",
          "name": "stdout",
          "text": [
            "best test accuracy 0.7071\n",
            "\n"
          ]
        },
        {
          "output_type": "stream",
          "name": "stderr",
          "text": [
            "Train ==> Epochs: 9 Batch:  781 loss: 1.3985885381698608 Accuracy: 60.37% : 100%|██████████| 782/782 [00:13<00:00, 56.21it/s]\n",
            "Test ==> Epochs: 9 Batch:  156 loss: 0.012593311148881911 Accuracy: 71.92% : 100%|██████████| 157/157 [00:01<00:00, 101.25it/s]\n"
          ]
        },
        {
          "output_type": "stream",
          "name": "stdout",
          "text": [
            "best test accuracy 0.7192\n",
            "\n"
          ]
        },
        {
          "output_type": "stream",
          "name": "stderr",
          "text": [
            "Train ==> Epochs: 10 Batch:  781 loss: 1.1674509048461914 Accuracy: 61.01% : 100%|██████████| 782/782 [00:13<00:00, 57.86it/s]\n",
            "Test ==> Epochs: 10 Batch:  156 loss: 0.012347359582781792 Accuracy: 72.38% : 100%|██████████| 157/157 [00:01<00:00, 100.22it/s]\n"
          ]
        },
        {
          "output_type": "stream",
          "name": "stdout",
          "text": [
            "best test accuracy 0.7238\n",
            "\n"
          ]
        },
        {
          "output_type": "stream",
          "name": "stderr",
          "text": [
            "Train ==> Epochs: 11 Batch:  781 loss: 1.2970162630081177 Accuracy: 62.01% : 100%|██████████| 782/782 [00:13<00:00, 56.47it/s]\n",
            "Test ==> Epochs: 11 Batch:  156 loss: 0.012026561126112938 Accuracy: 73.18% : 100%|██████████| 157/157 [00:01<00:00, 100.70it/s]\n"
          ]
        },
        {
          "output_type": "stream",
          "name": "stdout",
          "text": [
            "best test accuracy 0.7318\n",
            "\n"
          ]
        },
        {
          "output_type": "stream",
          "name": "stderr",
          "text": [
            "Train ==> Epochs: 12 Batch:  781 loss: 1.411987066268921 Accuracy: 62.86% : 100%|██████████| 782/782 [00:13<00:00, 56.90it/s]\n",
            "Test ==> Epochs: 12 Batch:  156 loss: 0.011891840270161628 Accuracy: 73.26% : 100%|██████████| 157/157 [00:01<00:00, 106.94it/s]\n"
          ]
        },
        {
          "output_type": "stream",
          "name": "stdout",
          "text": [
            "best test accuracy 0.7326\n",
            "\n"
          ]
        },
        {
          "output_type": "stream",
          "name": "stderr",
          "text": [
            "Train ==> Epochs: 13 Batch:  781 loss: 1.1131795644760132 Accuracy: 62.96% : 100%|██████████| 782/782 [00:13<00:00, 56.15it/s]\n",
            "Test ==> Epochs: 13 Batch:  156 loss: 0.011915869897603988 Accuracy: 73.85% : 100%|██████████| 157/157 [00:01<00:00, 102.88it/s]\n"
          ]
        },
        {
          "output_type": "stream",
          "name": "stdout",
          "text": [
            "best test accuracy 0.7385\n",
            "\n"
          ]
        },
        {
          "output_type": "stream",
          "name": "stderr",
          "text": [
            "Train ==> Epochs: 14 Batch:  781 loss: 0.8508459329605103 Accuracy: 63.86% : 100%|██████████| 782/782 [00:13<00:00, 56.35it/s]\n",
            "Test ==> Epochs: 14 Batch:  156 loss: 0.011349429932236671 Accuracy: 75.28% : 100%|██████████| 157/157 [00:01<00:00, 104.57it/s]\n"
          ]
        },
        {
          "output_type": "stream",
          "name": "stdout",
          "text": [
            "Achieved: 75.28% Test Accuracy !!\n",
            "best test accuracy 0.7528\n",
            "\n"
          ]
        },
        {
          "output_type": "stream",
          "name": "stderr",
          "text": [
            "Train ==> Epochs: 15 Batch:  781 loss: 1.0689740180969238 Accuracy: 64.25% : 100%|██████████| 782/782 [00:13<00:00, 57.08it/s]\n",
            "Test ==> Epochs: 15 Batch:  156 loss: 0.011400549399852753 Accuracy: 75.14% : 100%|██████████| 157/157 [00:01<00:00, 105.18it/s]\n"
          ]
        },
        {
          "output_type": "stream",
          "name": "stdout",
          "text": [
            "best test accuracy 0.7528\n",
            "\n"
          ]
        },
        {
          "output_type": "stream",
          "name": "stderr",
          "text": [
            "Train ==> Epochs: 16 Batch:  781 loss: 1.0241429805755615 Accuracy: 64.65% : 100%|██████████| 782/782 [00:13<00:00, 57.48it/s]\n",
            "Test ==> Epochs: 16 Batch:  156 loss: 0.011314292246103287 Accuracy: 74.62% : 100%|██████████| 157/157 [00:01<00:00, 104.17it/s]\n"
          ]
        },
        {
          "output_type": "stream",
          "name": "stdout",
          "text": [
            "best test accuracy 0.7528\n",
            "\n"
          ]
        },
        {
          "output_type": "stream",
          "name": "stderr",
          "text": [
            "Train ==> Epochs: 17 Batch:  781 loss: 1.2945560216903687 Accuracy: 65.15% : 100%|██████████| 782/782 [00:13<00:00, 56.74it/s]\n",
            "Test ==> Epochs: 17 Batch:  156 loss: 0.011068844839930534 Accuracy: 75.95% : 100%|██████████| 157/157 [00:01<00:00, 102.65it/s]\n"
          ]
        },
        {
          "output_type": "stream",
          "name": "stdout",
          "text": [
            "Achieved: 75.94999999999999% Test Accuracy !!\n",
            "best test accuracy 0.7595\n",
            "\n"
          ]
        },
        {
          "output_type": "stream",
          "name": "stderr",
          "text": [
            "Train ==> Epochs: 18 Batch:  781 loss: 0.8211849927902222 Accuracy: 65.52% : 100%|██████████| 782/782 [00:13<00:00, 55.89it/s]\n",
            "Test ==> Epochs: 18 Batch:  156 loss: 0.011318414670228958 Accuracy: 74.91% : 100%|██████████| 157/157 [00:01<00:00, 100.12it/s]\n"
          ]
        },
        {
          "output_type": "stream",
          "name": "stdout",
          "text": [
            "best test accuracy 0.7595\n",
            "\n"
          ]
        },
        {
          "output_type": "stream",
          "name": "stderr",
          "text": [
            "Train ==> Epochs: 19 Batch:  781 loss: 0.9110680818557739 Accuracy: 65.49% : 100%|██████████| 782/782 [00:13<00:00, 56.40it/s]\n",
            "Test ==> Epochs: 19 Batch:  156 loss: 0.01075528168976307 Accuracy: 76.18% : 100%|██████████| 157/157 [00:01<00:00, 100.67it/s]\n"
          ]
        },
        {
          "output_type": "stream",
          "name": "stdout",
          "text": [
            "Achieved: 76.18% Test Accuracy !!\n",
            "best test accuracy 0.7618\n",
            "\n"
          ]
        },
        {
          "output_type": "stream",
          "name": "stderr",
          "text": [
            "Train ==> Epochs: 20 Batch:  781 loss: 1.2324857711791992 Accuracy: 66.08% : 100%|██████████| 782/782 [00:13<00:00, 57.12it/s]\n",
            "Test ==> Epochs: 20 Batch:  156 loss: 0.011143531107902527 Accuracy: 75.58% : 100%|██████████| 157/157 [00:01<00:00, 105.83it/s]\n"
          ]
        },
        {
          "output_type": "stream",
          "name": "stdout",
          "text": [
            "best test accuracy 0.7618\n",
            "\n"
          ]
        },
        {
          "output_type": "stream",
          "name": "stderr",
          "text": [
            "Train ==> Epochs: 21 Batch:  781 loss: 1.0228397846221924 Accuracy: 66.47% : 100%|██████████| 782/782 [00:13<00:00, 56.31it/s]\n",
            "Test ==> Epochs: 21 Batch:  156 loss: 0.010644645020365716 Accuracy: 76.73% : 100%|██████████| 157/157 [00:01<00:00, 101.42it/s]\n"
          ]
        },
        {
          "output_type": "stream",
          "name": "stdout",
          "text": [
            "Achieved: 76.73% Test Accuracy !!\n",
            "best test accuracy 0.7673\n",
            "\n"
          ]
        },
        {
          "output_type": "stream",
          "name": "stderr",
          "text": [
            "Train ==> Epochs: 22 Batch:  781 loss: 1.1370553970336914 Accuracy: 66.55% : 100%|██████████| 782/782 [00:13<00:00, 56.37it/s]\n",
            "Test ==> Epochs: 22 Batch:  156 loss: 0.01059602267742157 Accuracy: 77.04% : 100%|██████████| 157/157 [00:01<00:00, 104.99it/s]\n"
          ]
        },
        {
          "output_type": "stream",
          "name": "stdout",
          "text": [
            "Achieved: 77.03999999999999% Test Accuracy !!\n",
            "best test accuracy 0.7704\n",
            "\n"
          ]
        },
        {
          "output_type": "stream",
          "name": "stderr",
          "text": [
            "Train ==> Epochs: 23 Batch:  781 loss: 0.7034897208213806 Accuracy: 66.71% : 100%|██████████| 782/782 [00:13<00:00, 56.58it/s]\n",
            "Test ==> Epochs: 23 Batch:  156 loss: 0.010402818763256072 Accuracy: 77.09% : 100%|██████████| 157/157 [00:01<00:00, 105.79it/s]\n"
          ]
        },
        {
          "output_type": "stream",
          "name": "stdout",
          "text": [
            "Achieved: 77.09% Test Accuracy !!\n",
            "best test accuracy 0.7709\n",
            "\n"
          ]
        },
        {
          "output_type": "stream",
          "name": "stderr",
          "text": [
            "Train ==> Epochs: 24 Batch:  781 loss: 1.0859713554382324 Accuracy: 66.94% : 100%|██████████| 782/782 [00:13<00:00, 56.64it/s]\n",
            "Test ==> Epochs: 24 Batch:  156 loss: 0.010365402236580848 Accuracy: 77.56% : 100%|██████████| 157/157 [00:01<00:00, 101.68it/s]\n"
          ]
        },
        {
          "output_type": "stream",
          "name": "stdout",
          "text": [
            "Achieved: 77.56% Test Accuracy !!\n",
            "best test accuracy 0.7756\n",
            "\n"
          ]
        },
        {
          "output_type": "stream",
          "name": "stderr",
          "text": [
            "Train ==> Epochs: 25 Batch:  781 loss: 0.5710387229919434 Accuracy: 67.07% : 100%|██████████| 782/782 [00:14<00:00, 55.66it/s]\n",
            "Test ==> Epochs: 25 Batch:  156 loss: 0.01022240552008152 Accuracy: 77.66% : 100%|██████████| 157/157 [00:01<00:00, 106.46it/s]\n"
          ]
        },
        {
          "output_type": "stream",
          "name": "stdout",
          "text": [
            "Achieved: 77.66% Test Accuracy !!\n",
            "best test accuracy 0.7766\n",
            "\n"
          ]
        },
        {
          "output_type": "stream",
          "name": "stderr",
          "text": [
            "Train ==> Epochs: 26 Batch:  781 loss: 1.0398547649383545 Accuracy: 67.33% : 100%|██████████| 782/782 [00:13<00:00, 57.20it/s]\n",
            "Test ==> Epochs: 26 Batch:  156 loss: 0.010245584920048713 Accuracy: 77.52% : 100%|██████████| 157/157 [00:01<00:00, 102.60it/s]\n"
          ]
        },
        {
          "output_type": "stream",
          "name": "stdout",
          "text": [
            "best test accuracy 0.7766\n",
            "\n"
          ]
        },
        {
          "output_type": "stream",
          "name": "stderr",
          "text": [
            "Train ==> Epochs: 27 Batch:  781 loss: 1.3860464096069336 Accuracy: 67.28% : 100%|██████████| 782/782 [00:13<00:00, 56.03it/s]\n",
            "Test ==> Epochs: 27 Batch:  156 loss: 0.010508191096782684 Accuracy: 76.97% : 100%|██████████| 157/157 [00:01<00:00, 102.46it/s]\n"
          ]
        },
        {
          "output_type": "stream",
          "name": "stdout",
          "text": [
            "best test accuracy 0.7766\n",
            "\n"
          ]
        },
        {
          "output_type": "stream",
          "name": "stderr",
          "text": [
            "Train ==> Epochs: 28 Batch:  781 loss: 0.8492021560668945 Accuracy: 67.67% : 100%|██████████| 782/782 [00:13<00:00, 56.05it/s]\n",
            "Test ==> Epochs: 28 Batch:  156 loss: 0.010242712706327439 Accuracy: 77.64% : 100%|██████████| 157/157 [00:01<00:00, 101.54it/s]\n"
          ]
        },
        {
          "output_type": "stream",
          "name": "stdout",
          "text": [
            "best test accuracy 0.7766\n",
            "\n"
          ]
        },
        {
          "output_type": "stream",
          "name": "stderr",
          "text": [
            "Train ==> Epochs: 29 Batch:  781 loss: 0.8475443720817566 Accuracy: 67.96% : 100%|██████████| 782/782 [00:13<00:00, 56.21it/s]\n",
            "Test ==> Epochs: 29 Batch:  156 loss: 0.01002710983455181 Accuracy: 78.39% : 100%|██████████| 157/157 [00:01<00:00, 95.03it/s] \n"
          ]
        },
        {
          "output_type": "stream",
          "name": "stdout",
          "text": [
            "Achieved: 78.39% Test Accuracy !!\n",
            "best test accuracy 0.7839\n",
            "\n"
          ]
        },
        {
          "output_type": "stream",
          "name": "stderr",
          "text": [
            "Train ==> Epochs: 30 Batch:  781 loss: 0.9854518175125122 Accuracy: 67.93% : 100%|██████████| 782/782 [00:14<00:00, 55.66it/s]\n",
            "Test ==> Epochs: 30 Batch:  156 loss: 0.009972693037986756 Accuracy: 78.05% : 100%|██████████| 157/157 [00:01<00:00, 102.38it/s]\n"
          ]
        },
        {
          "output_type": "stream",
          "name": "stdout",
          "text": [
            "best test accuracy 0.7839\n",
            "\n"
          ]
        },
        {
          "output_type": "stream",
          "name": "stderr",
          "text": [
            "Train ==> Epochs: 31 Batch:  781 loss: 1.0205488204956055 Accuracy: 68.55% : 100%|██████████| 782/782 [00:13<00:00, 56.71it/s]\n",
            "Test ==> Epochs: 31 Batch:  156 loss: 0.010104608613252639 Accuracy: 77.59% : 100%|██████████| 157/157 [00:01<00:00, 101.72it/s]\n"
          ]
        },
        {
          "output_type": "stream",
          "name": "stdout",
          "text": [
            "best test accuracy 0.7839\n",
            "\n"
          ]
        },
        {
          "output_type": "stream",
          "name": "stderr",
          "text": [
            "Train ==> Epochs: 32 Batch:  781 loss: 1.2413668632507324 Accuracy: 68.52% : 100%|██████████| 782/782 [00:13<00:00, 56.78it/s]\n",
            "Test ==> Epochs: 32 Batch:  156 loss: 0.009953132992982864 Accuracy: 78.15% : 100%|██████████| 157/157 [00:01<00:00, 103.26it/s]\n"
          ]
        },
        {
          "output_type": "stream",
          "name": "stdout",
          "text": [
            "best test accuracy 0.7839\n",
            "\n"
          ]
        },
        {
          "output_type": "stream",
          "name": "stderr",
          "text": [
            "Train ==> Epochs: 33 Batch:  781 loss: 1.2884676456451416 Accuracy: 68.66% : 100%|██████████| 782/782 [00:13<00:00, 56.40it/s]\n",
            "Test ==> Epochs: 33 Batch:  156 loss: 0.009870406329631806 Accuracy: 78.36% : 100%|██████████| 157/157 [00:01<00:00, 103.74it/s]\n"
          ]
        },
        {
          "output_type": "stream",
          "name": "stdout",
          "text": [
            "best test accuracy 0.7839\n",
            "\n"
          ]
        },
        {
          "output_type": "stream",
          "name": "stderr",
          "text": [
            "Train ==> Epochs: 34 Batch:  781 loss: 1.011446237564087 Accuracy: 68.47% : 100%|██████████| 782/782 [00:13<00:00, 56.62it/s]\n",
            "Test ==> Epochs: 34 Batch:  156 loss: 0.00982990266084671 Accuracy: 78.45% : 100%|██████████| 157/157 [00:01<00:00, 102.28it/s]\n"
          ]
        },
        {
          "output_type": "stream",
          "name": "stdout",
          "text": [
            "Achieved: 78.45% Test Accuracy !!\n",
            "best test accuracy 0.7845\n",
            "\n"
          ]
        },
        {
          "output_type": "stream",
          "name": "stderr",
          "text": [
            "Train ==> Epochs: 35 Batch:  781 loss: 0.8508287072181702 Accuracy: 68.84% : 100%|██████████| 782/782 [00:13<00:00, 56.78it/s]\n",
            "Test ==> Epochs: 35 Batch:  156 loss: 0.00996386208832264 Accuracy: 77.99% : 100%|██████████| 157/157 [00:01<00:00, 105.24it/s]\n"
          ]
        },
        {
          "output_type": "stream",
          "name": "stdout",
          "text": [
            "best test accuracy 0.7845\n",
            "\n"
          ]
        },
        {
          "output_type": "stream",
          "name": "stderr",
          "text": [
            "Train ==> Epochs: 36 Batch:  781 loss: 1.2422035932540894 Accuracy: 69.03% : 100%|██████████| 782/782 [00:13<00:00, 56.91it/s]\n",
            "Test ==> Epochs: 36 Batch:  156 loss: 0.009870419040322305 Accuracy: 78.42% : 100%|██████████| 157/157 [00:01<00:00, 100.63it/s]\n"
          ]
        },
        {
          "output_type": "stream",
          "name": "stdout",
          "text": [
            "best test accuracy 0.7845\n",
            "\n"
          ]
        },
        {
          "output_type": "stream",
          "name": "stderr",
          "text": [
            "Train ==> Epochs: 37 Batch:  781 loss: 0.8912355303764343 Accuracy: 69.34% : 100%|██████████| 782/782 [00:13<00:00, 56.10it/s]\n",
            "Test ==> Epochs: 37 Batch:  156 loss: 0.009654989802837372 Accuracy: 78.92% : 100%|██████████| 157/157 [00:01<00:00, 102.48it/s]\n"
          ]
        },
        {
          "output_type": "stream",
          "name": "stdout",
          "text": [
            "Achieved: 78.92% Test Accuracy !!\n",
            "best test accuracy 0.7892\n",
            "\n"
          ]
        },
        {
          "output_type": "stream",
          "name": "stderr",
          "text": [
            "Train ==> Epochs: 38 Batch:  781 loss: 0.4649851322174072 Accuracy: 69.25% : 100%|██████████| 782/782 [00:13<00:00, 56.44it/s]\n",
            "Test ==> Epochs: 38 Batch:  156 loss: 0.009808268341422082 Accuracy: 78.37% : 100%|██████████| 157/157 [00:01<00:00, 101.09it/s]\n"
          ]
        },
        {
          "output_type": "stream",
          "name": "stdout",
          "text": [
            "best test accuracy 0.7892\n",
            "\n"
          ]
        },
        {
          "output_type": "stream",
          "name": "stderr",
          "text": [
            "Train ==> Epochs: 39 Batch:  781 loss: 0.5975461006164551 Accuracy: 69.61% : 100%|██████████| 782/782 [00:14<00:00, 55.49it/s]\n",
            "Test ==> Epochs: 39 Batch:  156 loss: 0.009672684025764466 Accuracy: 79.06% : 100%|██████████| 157/157 [00:01<00:00, 99.34it/s] \n"
          ]
        },
        {
          "output_type": "stream",
          "name": "stdout",
          "text": [
            "Achieved: 79.06% Test Accuracy !!\n",
            "best test accuracy 0.7906\n",
            "\n"
          ]
        },
        {
          "output_type": "stream",
          "name": "stderr",
          "text": [
            "Train ==> Epochs: 40 Batch:  781 loss: 0.6939380168914795 Accuracy: 69.64% : 100%|██████████| 782/782 [00:13<00:00, 56.50it/s]\n",
            "Test ==> Epochs: 40 Batch:  156 loss: 0.009609894171357155 Accuracy: 78.95% : 100%|██████████| 157/157 [00:01<00:00, 103.71it/s]\n"
          ]
        },
        {
          "output_type": "stream",
          "name": "stdout",
          "text": [
            "best test accuracy 0.7906\n",
            "\n"
          ]
        },
        {
          "output_type": "stream",
          "name": "stderr",
          "text": [
            "Train ==> Epochs: 41 Batch:  781 loss: 0.8818289637565613 Accuracy: 69.39% : 100%|██████████| 782/782 [00:13<00:00, 57.21it/s]\n",
            "Test ==> Epochs: 41 Batch:  156 loss: 0.009521748977899551 Accuracy: 78.78% : 100%|██████████| 157/157 [00:01<00:00, 101.89it/s]\n"
          ]
        },
        {
          "output_type": "stream",
          "name": "stdout",
          "text": [
            "best test accuracy 0.7906\n",
            "\n"
          ]
        },
        {
          "output_type": "stream",
          "name": "stderr",
          "text": [
            "Train ==> Epochs: 42 Batch:  781 loss: 0.5889912247657776 Accuracy: 69.81% : 100%|██████████| 782/782 [00:13<00:00, 55.94it/s]\n",
            "Test ==> Epochs: 42 Batch:  156 loss: 0.009885215601325036 Accuracy: 78.40% : 100%|██████████| 157/157 [00:01<00:00, 103.95it/s]\n"
          ]
        },
        {
          "output_type": "stream",
          "name": "stdout",
          "text": [
            "best test accuracy 0.7906\n",
            "\n"
          ]
        },
        {
          "output_type": "stream",
          "name": "stderr",
          "text": [
            "Train ==> Epochs: 43 Batch:  781 loss: 0.6960824728012085 Accuracy: 69.73% : 100%|██████████| 782/782 [00:14<00:00, 55.68it/s]\n",
            "Test ==> Epochs: 43 Batch:  156 loss: 0.009487519749999047 Accuracy: 78.91% : 100%|██████████| 157/157 [00:01<00:00, 101.56it/s]\n"
          ]
        },
        {
          "output_type": "stream",
          "name": "stdout",
          "text": [
            "best test accuracy 0.7906\n",
            "\n"
          ]
        },
        {
          "output_type": "stream",
          "name": "stderr",
          "text": [
            "Train ==> Epochs: 44 Batch:  781 loss: 1.3495361804962158 Accuracy: 70.05% : 100%|██████████| 782/782 [00:13<00:00, 56.39it/s]\n",
            "Test ==> Epochs: 44 Batch:  156 loss: 0.009692413210868835 Accuracy: 78.76% : 100%|██████████| 157/157 [00:01<00:00, 100.26it/s]\n"
          ]
        },
        {
          "output_type": "stream",
          "name": "stdout",
          "text": [
            "best test accuracy 0.7906\n",
            "\n"
          ]
        },
        {
          "output_type": "stream",
          "name": "stderr",
          "text": [
            "Train ==> Epochs: 45 Batch:  781 loss: 0.7959933876991272 Accuracy: 69.91% : 100%|██████████| 782/782 [00:13<00:00, 56.12it/s]\n",
            "Test ==> Epochs: 45 Batch:  156 loss: 0.009596301209926605 Accuracy: 78.95% : 100%|██████████| 157/157 [00:01<00:00, 99.23it/s] \n"
          ]
        },
        {
          "output_type": "stream",
          "name": "stdout",
          "text": [
            "best test accuracy 0.7906\n",
            "\n"
          ]
        },
        {
          "output_type": "stream",
          "name": "stderr",
          "text": [
            "Train ==> Epochs: 46 Batch:  781 loss: 0.7917900681495667 Accuracy: 70.01% : 100%|██████████| 782/782 [00:13<00:00, 56.68it/s]\n",
            "Test ==> Epochs: 46 Batch:  156 loss: 0.00951667151749134 Accuracy: 79.19% : 100%|██████████| 157/157 [00:01<00:00, 103.64it/s]\n"
          ]
        },
        {
          "output_type": "stream",
          "name": "stdout",
          "text": [
            "Achieved: 79.19% Test Accuracy !!\n",
            "best test accuracy 0.7919\n",
            "\n"
          ]
        },
        {
          "output_type": "stream",
          "name": "stderr",
          "text": [
            "Train ==> Epochs: 47 Batch:  781 loss: 0.842826783657074 Accuracy: 70.01% : 100%|██████████| 782/782 [00:13<00:00, 55.90it/s]\n",
            "Test ==> Epochs: 47 Batch:  156 loss: 0.009321915371716023 Accuracy: 79.89% : 100%|██████████| 157/157 [00:01<00:00, 95.16it/s] \n"
          ]
        },
        {
          "output_type": "stream",
          "name": "stdout",
          "text": [
            "Achieved: 79.89% Test Accuracy !!\n",
            "best test accuracy 0.7989\n",
            "\n"
          ]
        },
        {
          "output_type": "stream",
          "name": "stderr",
          "text": [
            "Train ==> Epochs: 48 Batch:  781 loss: 0.8629287481307983 Accuracy: 70.37% : 100%|██████████| 782/782 [00:14<00:00, 55.81it/s]\n",
            "Test ==> Epochs: 48 Batch:  156 loss: 0.009330487170815468 Accuracy: 79.66% : 100%|██████████| 157/157 [00:01<00:00, 103.45it/s]\n"
          ]
        },
        {
          "output_type": "stream",
          "name": "stdout",
          "text": [
            "best test accuracy 0.7989\n",
            "\n"
          ]
        },
        {
          "output_type": "stream",
          "name": "stderr",
          "text": [
            "Train ==> Epochs: 49 Batch:  781 loss: 1.2021113634109497 Accuracy: 70.47% : 100%|██████████| 782/782 [00:13<00:00, 56.35it/s]\n",
            "Test ==> Epochs: 49 Batch:  156 loss: 0.009343918633460999 Accuracy: 79.88% : 100%|██████████| 157/157 [00:01<00:00, 102.20it/s]\n"
          ]
        },
        {
          "output_type": "stream",
          "name": "stdout",
          "text": [
            "best test accuracy 0.7989\n",
            "\n"
          ]
        },
        {
          "output_type": "stream",
          "name": "stderr",
          "text": [
            "Train ==> Epochs: 50 Batch:  781 loss: 0.8128069639205933 Accuracy: 70.66% : 100%|██████████| 782/782 [00:14<00:00, 55.77it/s]\n",
            "Test ==> Epochs: 50 Batch:  156 loss: 0.009320042690634727 Accuracy: 79.56% : 100%|██████████| 157/157 [00:01<00:00, 100.08it/s]\n"
          ]
        },
        {
          "output_type": "stream",
          "name": "stdout",
          "text": [
            "best test accuracy 0.7989\n",
            "\n"
          ]
        },
        {
          "output_type": "stream",
          "name": "stderr",
          "text": [
            "Train ==> Epochs: 51 Batch:  781 loss: 1.091141700744629 Accuracy: 70.20% : 100%|██████████| 782/782 [00:14<00:00, 55.72it/s]\n",
            "Test ==> Epochs: 51 Batch:  156 loss: 0.009435974723100662 Accuracy: 79.27% : 100%|██████████| 157/157 [00:01<00:00, 102.16it/s]\n"
          ]
        },
        {
          "output_type": "stream",
          "name": "stdout",
          "text": [
            "best test accuracy 0.7989\n",
            "\n"
          ]
        },
        {
          "output_type": "stream",
          "name": "stderr",
          "text": [
            "Train ==> Epochs: 52 Batch:  781 loss: 1.30098295211792 Accuracy: 70.41% : 100%|██████████| 782/782 [00:13<00:00, 56.61it/s]\n",
            "Test ==> Epochs: 52 Batch:  156 loss: 0.009226510171592235 Accuracy: 80.19% : 100%|██████████| 157/157 [00:01<00:00, 101.36it/s]\n"
          ]
        },
        {
          "output_type": "stream",
          "name": "stdout",
          "text": [
            "Achieved: 80.19% Test Accuracy !!\n",
            "best test accuracy 0.8019\n",
            "\n"
          ]
        },
        {
          "output_type": "stream",
          "name": "stderr",
          "text": [
            "Train ==> Epochs: 53 Batch:  781 loss: 0.7271156311035156 Accuracy: 70.72% : 100%|██████████| 782/782 [00:13<00:00, 55.97it/s]\n",
            "Test ==> Epochs: 53 Batch:  156 loss: 0.009245217376947402 Accuracy: 79.94% : 100%|██████████| 157/157 [00:01<00:00, 98.51it/s] \n"
          ]
        },
        {
          "output_type": "stream",
          "name": "stdout",
          "text": [
            "best test accuracy 0.8019\n",
            "\n"
          ]
        },
        {
          "output_type": "stream",
          "name": "stderr",
          "text": [
            "Train ==> Epochs: 54 Batch:  781 loss: 0.4541935622692108 Accuracy: 70.46% : 100%|██████████| 782/782 [00:14<00:00, 55.69it/s]\n",
            "Test ==> Epochs: 54 Batch:  156 loss: 0.009249476781487465 Accuracy: 79.84% : 100%|██████████| 157/157 [00:01<00:00, 96.75it/s] \n"
          ]
        },
        {
          "output_type": "stream",
          "name": "stdout",
          "text": [
            "best test accuracy 0.8019\n",
            "\n"
          ]
        },
        {
          "output_type": "stream",
          "name": "stderr",
          "text": [
            "Train ==> Epochs: 55 Batch:  781 loss: 0.7758620977401733 Accuracy: 71.02% : 100%|██████████| 782/782 [00:14<00:00, 55.80it/s]\n",
            "Test ==> Epochs: 55 Batch:  156 loss: 0.009319857606291771 Accuracy: 79.64% : 100%|██████████| 157/157 [00:01<00:00, 96.56it/s] \n"
          ]
        },
        {
          "output_type": "stream",
          "name": "stdout",
          "text": [
            "best test accuracy 0.8019\n",
            "\n"
          ]
        },
        {
          "output_type": "stream",
          "name": "stderr",
          "text": [
            "Train ==> Epochs: 56 Batch:  781 loss: 0.8085038661956787 Accuracy: 70.81% : 100%|██████████| 782/782 [00:13<00:00, 56.06it/s]\n",
            "Test ==> Epochs: 56 Batch:  156 loss: 0.009338000559806823 Accuracy: 79.68% : 100%|██████████| 157/157 [00:01<00:00, 97.05it/s] \n"
          ]
        },
        {
          "output_type": "stream",
          "name": "stdout",
          "text": [
            "best test accuracy 0.8019\n",
            "\n"
          ]
        },
        {
          "output_type": "stream",
          "name": "stderr",
          "text": [
            "Train ==> Epochs: 57 Batch:  781 loss: 1.6111284494400024 Accuracy: 71.04% : 100%|██████████| 782/782 [00:13<00:00, 56.69it/s]\n",
            "Test ==> Epochs: 57 Batch:  156 loss: 0.009142973932623864 Accuracy: 80.09% : 100%|██████████| 157/157 [00:01<00:00, 102.89it/s]\n"
          ]
        },
        {
          "output_type": "stream",
          "name": "stdout",
          "text": [
            "best test accuracy 0.8019\n",
            "\n"
          ]
        },
        {
          "output_type": "stream",
          "name": "stderr",
          "text": [
            "Train ==> Epochs: 58 Batch:  781 loss: 0.6368908286094666 Accuracy: 71.19% : 100%|██████████| 782/782 [00:13<00:00, 55.93it/s]\n",
            "Test ==> Epochs: 58 Batch:  156 loss: 0.009319200041890144 Accuracy: 79.59% : 100%|██████████| 157/157 [00:01<00:00, 98.33it/s] \n"
          ]
        },
        {
          "output_type": "stream",
          "name": "stdout",
          "text": [
            "best test accuracy 0.8019\n",
            "\n"
          ]
        },
        {
          "output_type": "stream",
          "name": "stderr",
          "text": [
            "Train ==> Epochs: 59 Batch:  781 loss: 0.7189157009124756 Accuracy: 71.04% : 100%|██████████| 782/782 [00:14<00:00, 55.78it/s]\n",
            "Test ==> Epochs: 59 Batch:  156 loss: 0.009381365640461445 Accuracy: 79.60% : 100%|██████████| 157/157 [00:01<00:00, 98.95it/s] \n"
          ]
        },
        {
          "output_type": "stream",
          "name": "stdout",
          "text": [
            "best test accuracy 0.8019\n",
            "\n"
          ]
        },
        {
          "output_type": "stream",
          "name": "stderr",
          "text": [
            "Train ==> Epochs: 60 Batch:  781 loss: 0.6842958927154541 Accuracy: 71.04% : 100%|██████████| 782/782 [00:13<00:00, 56.18it/s]\n",
            "Test ==> Epochs: 60 Batch:  156 loss: 0.009272968104481697 Accuracy: 79.53% : 100%|██████████| 157/157 [00:01<00:00, 101.00it/s]\n"
          ]
        },
        {
          "output_type": "stream",
          "name": "stdout",
          "text": [
            "best test accuracy 0.8019\n",
            "\n"
          ]
        },
        {
          "output_type": "stream",
          "name": "stderr",
          "text": [
            "Train ==> Epochs: 61 Batch:  781 loss: 0.6647430062294006 Accuracy: 71.41% : 100%|██████████| 782/782 [00:13<00:00, 56.19it/s]\n",
            "Test ==> Epochs: 61 Batch:  156 loss: 0.009384825572371483 Accuracy: 79.20% : 100%|██████████| 157/157 [00:01<00:00, 96.74it/s] \n"
          ]
        },
        {
          "output_type": "stream",
          "name": "stdout",
          "text": [
            "best test accuracy 0.8019\n",
            "\n"
          ]
        },
        {
          "output_type": "stream",
          "name": "stderr",
          "text": [
            "Train ==> Epochs: 62 Batch:  781 loss: 0.9444849491119385 Accuracy: 71.21% : 100%|██████████| 782/782 [00:13<00:00, 57.06it/s]\n",
            "Test ==> Epochs: 62 Batch:  156 loss: 0.009055693881213665 Accuracy: 80.02% : 100%|██████████| 157/157 [00:01<00:00, 102.90it/s]\n"
          ]
        },
        {
          "output_type": "stream",
          "name": "stdout",
          "text": [
            "best test accuracy 0.8019\n",
            "\n"
          ]
        },
        {
          "output_type": "stream",
          "name": "stderr",
          "text": [
            "Train ==> Epochs: 63 Batch:  781 loss: 1.1249868869781494 Accuracy: 71.34% : 100%|██████████| 782/782 [00:14<00:00, 55.55it/s]\n",
            "Test ==> Epochs: 63 Batch:  156 loss: 0.00914321172684431 Accuracy: 80.25% : 100%|██████████| 157/157 [00:01<00:00, 96.64it/s] \n"
          ]
        },
        {
          "output_type": "stream",
          "name": "stdout",
          "text": [
            "Achieved: 80.25% Test Accuracy !!\n",
            "best test accuracy 0.8025\n",
            "\n"
          ]
        },
        {
          "output_type": "stream",
          "name": "stderr",
          "text": [
            "Train ==> Epochs: 64 Batch:  781 loss: 0.827461302280426 Accuracy: 71.57% : 100%|██████████| 782/782 [00:14<00:00, 55.71it/s]\n",
            "Test ==> Epochs: 64 Batch:  156 loss: 0.009055161428451539 Accuracy: 80.10% : 100%|██████████| 157/157 [00:01<00:00, 96.25it/s] \n"
          ]
        },
        {
          "output_type": "stream",
          "name": "stdout",
          "text": [
            "best test accuracy 0.8025\n",
            "\n"
          ]
        },
        {
          "output_type": "stream",
          "name": "stderr",
          "text": [
            "Train ==> Epochs: 65 Batch:  781 loss: 0.5086228251457214 Accuracy: 71.48% : 100%|██████████| 782/782 [00:13<00:00, 56.06it/s]\n",
            "Test ==> Epochs: 65 Batch:  156 loss: 0.009050853918492793 Accuracy: 80.26% : 100%|██████████| 157/157 [00:01<00:00, 98.10it/s] \n"
          ]
        },
        {
          "output_type": "stream",
          "name": "stdout",
          "text": [
            "Achieved: 80.25999999999999% Test Accuracy !!\n",
            "best test accuracy 0.8026\n",
            "\n"
          ]
        },
        {
          "output_type": "stream",
          "name": "stderr",
          "text": [
            "Train ==> Epochs: 66 Batch:  781 loss: 0.9546300768852234 Accuracy: 71.46% : 100%|██████████| 782/782 [00:14<00:00, 55.77it/s]\n",
            "Test ==> Epochs: 66 Batch:  156 loss: 0.009005942659080028 Accuracy: 80.58% : 100%|██████████| 157/157 [00:01<00:00, 98.29it/s] \n"
          ]
        },
        {
          "output_type": "stream",
          "name": "stdout",
          "text": [
            "Achieved: 80.58% Test Accuracy !!\n",
            "best test accuracy 0.8058\n",
            "\n"
          ]
        },
        {
          "output_type": "stream",
          "name": "stderr",
          "text": [
            "Train ==> Epochs: 67 Batch:  781 loss: 0.733744740486145 Accuracy: 71.84% : 100%|██████████| 782/782 [00:13<00:00, 55.91it/s]\n",
            "Test ==> Epochs: 67 Batch:  156 loss: 0.009080038943886757 Accuracy: 80.24% : 100%|██████████| 157/157 [00:01<00:00, 101.04it/s]\n"
          ]
        },
        {
          "output_type": "stream",
          "name": "stdout",
          "text": [
            "best test accuracy 0.8058\n",
            "\n"
          ]
        },
        {
          "output_type": "stream",
          "name": "stderr",
          "text": [
            "Train ==> Epochs: 68 Batch:  781 loss: 1.0428354740142822 Accuracy: 71.45% : 100%|██████████| 782/782 [00:14<00:00, 55.48it/s]\n",
            "Test ==> Epochs: 68 Batch:  156 loss: 0.009008833423256875 Accuracy: 80.47% : 100%|██████████| 157/157 [00:01<00:00, 99.54it/s] \n"
          ]
        },
        {
          "output_type": "stream",
          "name": "stdout",
          "text": [
            "best test accuracy 0.8058\n",
            "\n"
          ]
        },
        {
          "output_type": "stream",
          "name": "stderr",
          "text": [
            "Train ==> Epochs: 69 Batch:  781 loss: 0.520271360874176 Accuracy: 71.95% : 100%|██████████| 782/782 [00:14<00:00, 55.74it/s]\n",
            "Test ==> Epochs: 69 Batch:  156 loss: 0.009059259873628616 Accuracy: 80.09% : 100%|██████████| 157/157 [00:01<00:00, 102.53it/s]\n"
          ]
        },
        {
          "output_type": "stream",
          "name": "stdout",
          "text": [
            "best test accuracy 0.8058\n",
            "\n"
          ]
        },
        {
          "output_type": "stream",
          "name": "stderr",
          "text": [
            "Train ==> Epochs: 70 Batch:  781 loss: 0.9655260443687439 Accuracy: 71.67% : 100%|██████████| 782/782 [00:13<00:00, 56.43it/s]\n",
            "Test ==> Epochs: 70 Batch:  156 loss: 0.008965790878236294 Accuracy: 80.40% : 100%|██████████| 157/157 [00:01<00:00, 98.27it/s] \n"
          ]
        },
        {
          "output_type": "stream",
          "name": "stdout",
          "text": [
            "best test accuracy 0.8058\n",
            "\n"
          ]
        },
        {
          "output_type": "stream",
          "name": "stderr",
          "text": [
            "Train ==> Epochs: 71 Batch:  781 loss: 0.48836788535118103 Accuracy: 71.46% : 100%|██████████| 782/782 [00:14<00:00, 54.95it/s]\n",
            "Test ==> Epochs: 71 Batch:  156 loss: 0.009023598490655422 Accuracy: 80.27% : 100%|██████████| 157/157 [00:01<00:00, 99.44it/s] \n"
          ]
        },
        {
          "output_type": "stream",
          "name": "stdout",
          "text": [
            "best test accuracy 0.8058\n",
            "\n"
          ]
        },
        {
          "output_type": "stream",
          "name": "stderr",
          "text": [
            "Train ==> Epochs: 72 Batch:  781 loss: 0.5319007039070129 Accuracy: 72.16% : 100%|██████████| 782/782 [00:13<00:00, 55.95it/s]\n",
            "Test ==> Epochs: 72 Batch:  156 loss: 0.00905230732858181 Accuracy: 80.42% : 100%|██████████| 157/157 [00:01<00:00, 100.08it/s]\n"
          ]
        },
        {
          "output_type": "stream",
          "name": "stdout",
          "text": [
            "best test accuracy 0.8058\n",
            "\n"
          ]
        },
        {
          "output_type": "stream",
          "name": "stderr",
          "text": [
            "Train ==> Epochs: 73 Batch:  781 loss: 0.5305196642875671 Accuracy: 71.94% : 100%|██████████| 782/782 [00:13<00:00, 56.13it/s]\n",
            "Test ==> Epochs: 73 Batch:  156 loss: 0.008957184354960918 Accuracy: 80.43% : 100%|██████████| 157/157 [00:01<00:00, 98.79it/s] \n"
          ]
        },
        {
          "output_type": "stream",
          "name": "stdout",
          "text": [
            "best test accuracy 0.8058\n",
            "\n"
          ]
        },
        {
          "output_type": "stream",
          "name": "stderr",
          "text": [
            "Train ==> Epochs: 74 Batch:  781 loss: 0.4577893614768982 Accuracy: 72.24% : 100%|██████████| 782/782 [00:14<00:00, 55.47it/s]\n",
            "Test ==> Epochs: 74 Batch:  156 loss: 0.008873398615419865 Accuracy: 80.68% : 100%|██████████| 157/157 [00:01<00:00, 93.85it/s] \n"
          ]
        },
        {
          "output_type": "stream",
          "name": "stdout",
          "text": [
            "Achieved: 80.67999999999999% Test Accuracy !!\n",
            "best test accuracy 0.8068\n",
            "\n"
          ]
        },
        {
          "output_type": "stream",
          "name": "stderr",
          "text": [
            "Train ==> Epochs: 75 Batch:  781 loss: 0.41899538040161133 Accuracy: 72.01% : 100%|██████████| 782/782 [00:14<00:00, 55.23it/s]\n",
            "Test ==> Epochs: 75 Batch:  156 loss: 0.009019413170218468 Accuracy: 80.41% : 100%|██████████| 157/157 [00:01<00:00, 99.50it/s] \n"
          ]
        },
        {
          "output_type": "stream",
          "name": "stdout",
          "text": [
            "best test accuracy 0.8068\n",
            "\n"
          ]
        },
        {
          "output_type": "stream",
          "name": "stderr",
          "text": [
            "Train ==> Epochs: 76 Batch:  781 loss: 1.1932991743087769 Accuracy: 72.06% : 100%|██████████| 782/782 [00:14<00:00, 55.67it/s]\n",
            "Test ==> Epochs: 76 Batch:  156 loss: 0.008975541171431541 Accuracy: 80.34% : 100%|██████████| 157/157 [00:01<00:00, 98.95it/s] \n"
          ]
        },
        {
          "output_type": "stream",
          "name": "stdout",
          "text": [
            "best test accuracy 0.8068\n",
            "\n"
          ]
        },
        {
          "output_type": "stream",
          "name": "stderr",
          "text": [
            "Train ==> Epochs: 77 Batch:  781 loss: 0.9104896783828735 Accuracy: 72.08% : 100%|██████████| 782/782 [00:14<00:00, 55.73it/s]\n",
            "Test ==> Epochs: 77 Batch:  156 loss: 0.008870289653539658 Accuracy: 80.90% : 100%|██████████| 157/157 [00:01<00:00, 100.61it/s]\n"
          ]
        },
        {
          "output_type": "stream",
          "name": "stdout",
          "text": [
            "Achieved: 80.9% Test Accuracy !!\n",
            "best test accuracy 0.809\n",
            "\n"
          ]
        },
        {
          "output_type": "stream",
          "name": "stderr",
          "text": [
            "Train ==> Epochs: 78 Batch:  781 loss: 0.9054014682769775 Accuracy: 72.48% : 100%|██████████| 782/782 [00:14<00:00, 55.80it/s]\n",
            "Test ==> Epochs: 78 Batch:  156 loss: 0.00882800776809454 Accuracy: 80.59% : 100%|██████████| 157/157 [00:01<00:00, 97.47it/s] \n"
          ]
        },
        {
          "output_type": "stream",
          "name": "stdout",
          "text": [
            "best test accuracy 0.809\n",
            "\n"
          ]
        },
        {
          "output_type": "stream",
          "name": "stderr",
          "text": [
            "Train ==> Epochs: 79 Batch:  781 loss: 0.9150388240814209 Accuracy: 72.26% : 100%|██████████| 782/782 [00:14<00:00, 55.09it/s]\n",
            "Test ==> Epochs: 79 Batch:  156 loss: 0.008812903931736947 Accuracy: 80.70% : 100%|██████████| 157/157 [00:01<00:00, 94.97it/s] \n"
          ]
        },
        {
          "output_type": "stream",
          "name": "stdout",
          "text": [
            "best test accuracy 0.809\n",
            "\n"
          ]
        },
        {
          "output_type": "stream",
          "name": "stderr",
          "text": [
            "Train ==> Epochs: 80 Batch:  781 loss: 0.8016766309738159 Accuracy: 72.08% : 100%|██████████| 782/782 [00:13<00:00, 55.88it/s]\n",
            "Test ==> Epochs: 80 Batch:  156 loss: 0.00890874665081501 Accuracy: 80.77% : 100%|██████████| 157/157 [00:01<00:00, 98.37it/s] \n"
          ]
        },
        {
          "output_type": "stream",
          "name": "stdout",
          "text": [
            "best test accuracy 0.809\n",
            "\n"
          ]
        },
        {
          "output_type": "stream",
          "name": "stderr",
          "text": [
            "Train ==> Epochs: 81 Batch:  781 loss: 0.777459442615509 Accuracy: 72.29% : 100%|██████████| 782/782 [00:14<00:00, 55.28it/s]\n",
            "Test ==> Epochs: 81 Batch:  156 loss: 0.008782232856750487 Accuracy: 81.06% : 100%|██████████| 157/157 [00:01<00:00, 99.98it/s] \n"
          ]
        },
        {
          "output_type": "stream",
          "name": "stdout",
          "text": [
            "Achieved: 81.06% Test Accuracy !!\n",
            "best test accuracy 0.8106\n",
            "\n"
          ]
        },
        {
          "output_type": "stream",
          "name": "stderr",
          "text": [
            "Train ==> Epochs: 82 Batch:  781 loss: 0.656810998916626 Accuracy: 72.22% : 100%|██████████| 782/782 [00:14<00:00, 55.59it/s]\n",
            "Test ==> Epochs: 82 Batch:  156 loss: 0.008967379677295684 Accuracy: 80.54% : 100%|██████████| 157/157 [00:01<00:00, 99.81it/s] \n"
          ]
        },
        {
          "output_type": "stream",
          "name": "stdout",
          "text": [
            "best test accuracy 0.8106\n",
            "\n"
          ]
        },
        {
          "output_type": "stream",
          "name": "stderr",
          "text": [
            "Train ==> Epochs: 83 Batch:  781 loss: 0.6759644746780396 Accuracy: 72.49% : 100%|██████████| 782/782 [00:13<00:00, 56.21it/s]\n",
            "Test ==> Epochs: 83 Batch:  156 loss: 0.008945811480283738 Accuracy: 80.47% : 100%|██████████| 157/157 [00:01<00:00, 97.96it/s] \n"
          ]
        },
        {
          "output_type": "stream",
          "name": "stdout",
          "text": [
            "best test accuracy 0.8106\n",
            "\n"
          ]
        },
        {
          "output_type": "stream",
          "name": "stderr",
          "text": [
            "Train ==> Epochs: 84 Batch:  781 loss: 0.7859247326850891 Accuracy: 72.41% : 100%|██████████| 782/782 [00:13<00:00, 56.06it/s]\n",
            "Test ==> Epochs: 84 Batch:  156 loss: 0.008781183913350105 Accuracy: 80.87% : 100%|██████████| 157/157 [00:01<00:00, 96.84it/s] \n"
          ]
        },
        {
          "output_type": "stream",
          "name": "stdout",
          "text": [
            "best test accuracy 0.8106\n",
            "\n"
          ]
        },
        {
          "output_type": "stream",
          "name": "stderr",
          "text": [
            "Train ==> Epochs: 85 Batch:  781 loss: 0.4024839997291565 Accuracy: 72.58% : 100%|██████████| 782/782 [00:14<00:00, 55.76it/s]\n",
            "Test ==> Epochs: 85 Batch:  156 loss: 0.008653081586956978 Accuracy: 81.25% : 100%|██████████| 157/157 [00:01<00:00, 99.59it/s] \n"
          ]
        },
        {
          "output_type": "stream",
          "name": "stdout",
          "text": [
            "Achieved: 81.25% Test Accuracy !!\n",
            "best test accuracy 0.8125\n",
            "\n"
          ]
        },
        {
          "output_type": "stream",
          "name": "stderr",
          "text": [
            "Train ==> Epochs: 86 Batch:  781 loss: 0.8794196248054504 Accuracy: 72.49% : 100%|██████████| 782/782 [00:13<00:00, 56.32it/s]\n",
            "Test ==> Epochs: 86 Batch:  156 loss: 0.009044586081802844 Accuracy: 80.54% : 100%|██████████| 157/157 [00:01<00:00, 97.88it/s] \n"
          ]
        },
        {
          "output_type": "stream",
          "name": "stdout",
          "text": [
            "best test accuracy 0.8125\n",
            "\n"
          ]
        },
        {
          "output_type": "stream",
          "name": "stderr",
          "text": [
            "Train ==> Epochs: 87 Batch:  781 loss: 0.870131254196167 Accuracy: 72.30% : 100%|██████████| 782/782 [00:14<00:00, 55.42it/s]\n",
            "Test ==> Epochs: 87 Batch:  156 loss: 0.008636851204931736 Accuracy: 81.38% : 100%|██████████| 157/157 [00:01<00:00, 96.54it/s] \n"
          ]
        },
        {
          "output_type": "stream",
          "name": "stdout",
          "text": [
            "Achieved: 81.38% Test Accuracy !!\n",
            "best test accuracy 0.8138\n",
            "\n"
          ]
        },
        {
          "output_type": "stream",
          "name": "stderr",
          "text": [
            "Train ==> Epochs: 88 Batch:  781 loss: 1.5652892589569092 Accuracy: 72.37% : 100%|██████████| 782/782 [00:14<00:00, 55.76it/s]\n",
            "Test ==> Epochs: 88 Batch:  156 loss: 0.008941664877533912 Accuracy: 80.61% : 100%|██████████| 157/157 [00:01<00:00, 98.84it/s] \n"
          ]
        },
        {
          "output_type": "stream",
          "name": "stdout",
          "text": [
            "best test accuracy 0.8138\n",
            "\n"
          ]
        },
        {
          "output_type": "stream",
          "name": "stderr",
          "text": [
            "Train ==> Epochs: 89 Batch:  781 loss: 0.8510755300521851 Accuracy: 72.82% : 100%|██████████| 782/782 [00:13<00:00, 56.00it/s]\n",
            "Test ==> Epochs: 89 Batch:  156 loss: 0.008754901747405529 Accuracy: 80.88% : 100%|██████████| 157/157 [00:01<00:00, 99.89it/s] \n"
          ]
        },
        {
          "output_type": "stream",
          "name": "stdout",
          "text": [
            "best test accuracy 0.8138\n",
            "\n"
          ]
        },
        {
          "output_type": "stream",
          "name": "stderr",
          "text": [
            "Train ==> Epochs: 90 Batch:  781 loss: 1.0765247344970703 Accuracy: 72.67% : 100%|██████████| 782/782 [00:14<00:00, 55.62it/s]\n",
            "Test ==> Epochs: 90 Batch:  156 loss: 0.008810671210289002 Accuracy: 80.83% : 100%|██████████| 157/157 [00:01<00:00, 98.03it/s] \n"
          ]
        },
        {
          "output_type": "stream",
          "name": "stdout",
          "text": [
            "best test accuracy 0.8138\n",
            "\n"
          ]
        },
        {
          "output_type": "stream",
          "name": "stderr",
          "text": [
            "Train ==> Epochs: 91 Batch:  781 loss: 0.37337419390678406 Accuracy: 72.68% : 100%|██████████| 782/782 [00:14<00:00, 55.48it/s]\n",
            "Test ==> Epochs: 91 Batch:  156 loss: 0.009019489687681199 Accuracy: 80.00% : 100%|██████████| 157/157 [00:01<00:00, 96.57it/s] \n"
          ]
        },
        {
          "output_type": "stream",
          "name": "stdout",
          "text": [
            "best test accuracy 0.8138\n",
            "\n"
          ]
        },
        {
          "output_type": "stream",
          "name": "stderr",
          "text": [
            "Train ==> Epochs: 92 Batch:  781 loss: 0.9506661891937256 Accuracy: 72.71% : 100%|██████████| 782/782 [00:14<00:00, 55.40it/s]\n",
            "Test ==> Epochs: 92 Batch:  156 loss: 0.008962576861679554 Accuracy: 80.51% : 100%|██████████| 157/157 [00:01<00:00, 98.82it/s] \n"
          ]
        },
        {
          "output_type": "stream",
          "name": "stdout",
          "text": [
            "best test accuracy 0.8138\n",
            "\n"
          ]
        },
        {
          "output_type": "stream",
          "name": "stderr",
          "text": [
            "Train ==> Epochs: 93 Batch:  781 loss: 1.0962938070297241 Accuracy: 72.52% : 100%|██████████| 782/782 [00:13<00:00, 56.52it/s]\n",
            "Test ==> Epochs: 93 Batch:  156 loss: 0.008734109185636043 Accuracy: 80.92% : 100%|██████████| 157/157 [00:01<00:00, 96.55it/s] \n"
          ]
        },
        {
          "output_type": "stream",
          "name": "stdout",
          "text": [
            "best test accuracy 0.8138\n",
            "\n"
          ]
        },
        {
          "output_type": "stream",
          "name": "stderr",
          "text": [
            "Train ==> Epochs: 94 Batch:  781 loss: 0.735994279384613 Accuracy: 72.73% : 100%|██████████| 782/782 [00:13<00:00, 56.27it/s]\n",
            "Test ==> Epochs: 94 Batch:  156 loss: 0.008784409688413142 Accuracy: 81.06% : 100%|██████████| 157/157 [00:01<00:00, 98.41it/s] \n"
          ]
        },
        {
          "output_type": "stream",
          "name": "stdout",
          "text": [
            "best test accuracy 0.8138\n",
            "\n"
          ]
        },
        {
          "output_type": "stream",
          "name": "stderr",
          "text": [
            "Train ==> Epochs: 95 Batch:  781 loss: 0.7048020362854004 Accuracy: 72.69% : 100%|██████████| 782/782 [00:14<00:00, 55.32it/s]\n",
            "Test ==> Epochs: 95 Batch:  156 loss: 0.008711114540696145 Accuracy: 81.05% : 100%|██████████| 157/157 [00:01<00:00, 94.85it/s] \n"
          ]
        },
        {
          "output_type": "stream",
          "name": "stdout",
          "text": [
            "best test accuracy 0.8138\n",
            "\n"
          ]
        },
        {
          "output_type": "stream",
          "name": "stderr",
          "text": [
            "Train ==> Epochs: 96 Batch:  781 loss: 1.0693366527557373 Accuracy: 73.29% : 100%|██████████| 782/782 [00:14<00:00, 54.92it/s]\n",
            "Test ==> Epochs: 96 Batch:  156 loss: 0.008611048506200314 Accuracy: 81.42% : 100%|██████████| 157/157 [00:01<00:00, 98.29it/s] \n"
          ]
        },
        {
          "output_type": "stream",
          "name": "stdout",
          "text": [
            "Achieved: 81.42% Test Accuracy !!\n",
            "best test accuracy 0.8142\n",
            "\n"
          ]
        },
        {
          "output_type": "stream",
          "name": "stderr",
          "text": [
            "Train ==> Epochs: 97 Batch:  781 loss: 1.466010570526123 Accuracy: 72.93% : 100%|██████████| 782/782 [00:14<00:00, 55.43it/s]\n",
            "Test ==> Epochs: 97 Batch:  156 loss: 0.008608107493817806 Accuracy: 81.36% : 100%|██████████| 157/157 [00:01<00:00, 99.86it/s] \n"
          ]
        },
        {
          "output_type": "stream",
          "name": "stdout",
          "text": [
            "best test accuracy 0.8142\n",
            "\n"
          ]
        },
        {
          "output_type": "stream",
          "name": "stderr",
          "text": [
            "Train ==> Epochs: 98 Batch:  781 loss: 0.8908648490905762 Accuracy: 72.85% : 100%|██████████| 782/782 [00:13<00:00, 56.77it/s]\n",
            "Test ==> Epochs: 98 Batch:  156 loss: 0.008707381819188596 Accuracy: 81.02% : 100%|██████████| 157/157 [00:01<00:00, 98.77it/s] \n"
          ]
        },
        {
          "output_type": "stream",
          "name": "stdout",
          "text": [
            "best test accuracy 0.8142\n",
            "\n"
          ]
        },
        {
          "output_type": "stream",
          "name": "stderr",
          "text": [
            "Train ==> Epochs: 99 Batch:  781 loss: 0.3950062394142151 Accuracy: 73.04% : 100%|██████████| 782/782 [00:14<00:00, 55.00it/s]\n",
            "Test ==> Epochs: 99 Batch:  156 loss: 0.008650721170008183 Accuracy: 80.74% : 100%|██████████| 157/157 [00:01<00:00, 96.75it/s] \n"
          ]
        },
        {
          "output_type": "stream",
          "name": "stdout",
          "text": [
            "best test accuracy 0.8142\n",
            "\n"
          ]
        },
        {
          "output_type": "display_data",
          "data": {
            "text/plain": [
              "<Figure size 1080x360 with 0 Axes>"
            ]
          },
          "metadata": {}
        },
        {
          "output_type": "display_data",
          "data": {
            "image/png": "[encoded data removed]",
            "text/plain": [
              "<Figure size 1440x360 with 2 Axes>"
            ]
          },
          "metadata": {
            "needs_background": "light"
          }
        },
        {
          "output_type": "display_data",
          "data": {
            "image/png": "[encoded data removed]",
            "text/plain": [
              "<Figure size 900x720 with 10 Axes>"
            ]
          },
          "metadata": {
            "needs_background": "light"
          }
        }
      ],
      "source": [
        "if __name__ == \"__main__\":\n",
        "    batch_size = 64\n",
        "    epochs = 100\n",
        "\n",
        "    _=torch.manual_seed(1)\n",
        "    if torch.cuda.is_available():\n",
        "        _=torch.cuda.manual_seed(1)\n",
        "\n",
        "    train,test = get_data()\n",
        "    #take input as normal_type ['gbn','bn','gn','ln']\n",
        "    # To Un Normalize the test data\n",
        "    mean,std  = get_data_stats(test,train,img_norm_typ ='train',plot = False)\n",
        "    \n",
        "    # # Advanced Normalization\n",
        "    train_transform =A.Compose([A.Resize(32,32),\n",
        "                                A.Normalize(mean = mean,std = std,max_pixel_value=255,always_apply = True),\n",
        "                                A.ShiftScaleRotate(shift_limit=0.05,scale_limit =0.1,rotate_limit=7 ,always_apply=False),\n",
        "                                A.CoarseDropout(always_apply = False,max_holes = 1, max_height=16, max_width=16, min_holes = 1, min_height=16, min_width=16, fill_value=mean, mask_fill_value = None),\n",
        "                                A.ToGray(),\n",
        "                                ToTensorV2(transpose_mask =False),\n",
        "                                 ])      \n",
        "    test_transform = A.Compose([A.Resize(32,32),\n",
        "                                 A.Normalize(mean = mean,std = std,max_pixel_value=255,always_apply = True),\n",
        "                               ToTensorV2(transpose_mask =False), ])\n",
        "    # #basic Normalization\n",
        "    # train_transform =A.Compose([A.Resize(32,32),\n",
        "    #                             A.Normalize(mean = mean,std = std,max_pixel_value=255,always_apply = True),\n",
        "    #                             ToTensorV2(transpose_mask =False),\n",
        "    #                             ])      \n",
        "    # test_transform = A.Compose([A.Resize(32,32),\n",
        "    #                             A.Normalize(mean = mean,std = std,max_pixel_value=255,always_apply = True),\n",
        "    #                             ToTensorV2(transpose_mask =False,),\n",
        "    #                             ])\n",
        "\n",
        "    train_alb = AlbumDataset(train,train_transform)\n",
        "    test_alb = AlbumDataset(test,test_transform)\n",
        "\n",
        "    args = {'pin_memory':True,'num_workers':4} if torch.cuda.is_available() else {}\n",
        "    train_loader = DataLoader(train_alb,batch_size=batch_size,shuffle = True,**args)\n",
        "    test_loader = DataLoader(test_alb,batch_size=batch_size,**args)\n",
        "    # ['gbn','bn','gn','ln']\n",
        "    try_type = ['bn']\n",
        "    for norm_type in try_type:\n",
        "\n",
        "        model_class =Cifar10Net1(dropout_val = 0.05,norm_type = norm_type)\n",
        "        \n",
        "        # model_class = model\n",
        "        model,train_losses, train_accuracy,test_losses,test_accuracy = Run_Model(model_class,train_loader,test_loader,epochs =epochs)\n",
        "\n",
        "        plot_acc_loss(norm_type ,train_accuracy,train_losses,test_accuracy,test_losses)\n",
        "        clean_gpu()\n",
        "\n",
        "        print_wrong_image(model,test_loader,mean,std,2,5)\n",
        "        clean_gpu()"
      ]
    },
    {
      "cell_type": "code",
      "source": [
        "# #model Designing \n",
        "\n",
        "# model = Cifar10Net1(dropout_val = 0.00,norm_type = norm_type)\n",
        "# model = model.to(device)\n",
        "\n",
        "# model.train()\n",
        "\n",
        "# train_loader \n",
        "# for index_id,(data,target) in enumerate(train_loader):\n",
        "#     data,target = data.to(device),target.to(device)\n",
        "#     # optimizer.zero_grad()\n",
        "#     output = model(data)\n",
        "#     break\n",
        "# output.shape"
      ],
      "metadata": {
        "id": "UK1UUXrS9-3x"
      },
      "execution_count": 16,
      "outputs": []
    },
    {
      "cell_type": "code",
      "execution_count": 16,
      "metadata": {
        "id": "Zire3uuNCDtX"
      },
      "outputs": [],
      "source": [
        ""
      ]
    },
    {
      "cell_type": "code",
      "source": [
        ""
      ],
      "metadata": {
        "id": "xTAGBOOZ-04K"
      },
      "execution_count": 16,
      "outputs": []
    }
  ],
  "metadata": {
    "accelerator": "GPU",
    "colab": {
      "collapsed_sections": [],
      "machine_shape": "hm",
      "name": "Cifar10_resnet_19th.ipynb",
      "provenance": [],
      "authorship_tag": "ABX9TyOR40ruDQRKGC6KrecEuho3",
      "include_colab_link": true
    },
    "kernelspec": {
      "display_name": "Python 3",
      "name": "python3"
    },
    "language_info": {
      "name": "python"
    }
  },
  "nbformat": 4,
  "nbformat_minor": 0
}